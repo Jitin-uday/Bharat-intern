{
  "cells": [
    {
      "cell_type": "markdown",
      "metadata": {
        "id": "view-in-github",
        "colab_type": "text"
      },
      "source": [
        "<a href=\"https://colab.research.google.com/github/Jitin-uday/Bharat-intern/blob/main/hh_Copy.ipynb\" target=\"_parent\"><img src=\"https://colab.research.google.com/assets/colab-badge.svg\" alt=\"Open In Colab\"/></a>"
      ]
    },
    {
      "cell_type": "markdown",
      "id": "85e4f121",
      "metadata": {
        "id": "85e4f121"
      },
      "source": [
        "# NumPy   :   NUMERICAL PYTHON : NUMPY IS AN EXTREMELY POPULAR PYTHON MODULE,HEAVILY USED IN SCIENTIFIC COMPUTING"
      ]
    },
    {
      "cell_type": "markdown",
      "id": "1c05160d",
      "metadata": {
        "id": "1c05160d"
      },
      "source": [
        "NUMPY's MOST USEFUL FEATURE IS N DIMENSIONAL ARRAY OBJECT(NDARRAY)"
      ]
    },
    {
      "cell_type": "markdown",
      "id": "03a31ae0",
      "metadata": {
        "id": "03a31ae0"
      },
      "source": [
        "# 1.  Different ways to create a NumPy Array & Properties of Array"
      ]
    },
    {
      "cell_type": "code",
      "execution_count": null,
      "id": "29cd90aa",
      "metadata": {
        "id": "29cd90aa",
        "outputId": "88074019-6ec1-4a16-d435-92a8fe775abc"
      },
      "outputs": [
        {
          "data": {
            "text/plain": [
              "array([1, 2, 3])"
            ]
          },
          "execution_count": 1,
          "metadata": {},
          "output_type": "execute_result"
        }
      ],
      "source": [
        "import numpy as np\n",
        "a0=np.array([1,2,3])\n",
        "a0"
      ]
    },
    {
      "cell_type": "code",
      "execution_count": null,
      "id": "ef7c588c",
      "metadata": {
        "id": "ef7c588c",
        "outputId": "031b6e66-538d-4824-9696-4a0308221fcf"
      },
      "outputs": [
        {
          "data": {
            "text/plain": [
              "array([1, 2, 3, 4])"
            ]
          },
          "execution_count": 2,
          "metadata": {},
          "output_type": "execute_result"
        }
      ],
      "source": [
        "# One dimensional array\n",
        "import numpy as np\n",
        "a=np.array([1,2,3,4])\n",
        "a"
      ]
    },
    {
      "cell_type": "code",
      "execution_count": null,
      "id": "7e1f3561",
      "metadata": {
        "id": "7e1f3561",
        "outputId": "4f35e72d-0cf9-4db8-d061-0cc93ddbea64"
      },
      "outputs": [
        {
          "data": {
            "text/plain": [
              "array([9.  , 8.3 , 7.12])"
            ]
          },
          "execution_count": 3,
          "metadata": {},
          "output_type": "execute_result"
        }
      ],
      "source": [
        "b = np.array([9.0,8.3,7.12])\n",
        "#print(b)\n",
        "b"
      ]
    },
    {
      "cell_type": "code",
      "execution_count": null,
      "id": "0048e3a1",
      "metadata": {
        "scrolled": false,
        "id": "0048e3a1",
        "outputId": "da317fad-3e70-41c7-d501-b73a2416e6e9"
      },
      "outputs": [
        {
          "name": "stdout",
          "output_type": "stream",
          "text": [
            "int32\n",
            "float64\n",
            "<class 'numpy.ndarray'>\n",
            "<class 'numpy.ndarray'>\n",
            "1\n",
            "1\n",
            "(4,)\n"
          ]
        }
      ],
      "source": [
        "print(a.dtype)\n",
        "print(b.dtype)\n",
        "print(type(a))\n",
        "print(type(b))\n",
        "print(a.ndim)\n",
        "print(b.ndim)\n",
        "print(a.shape)"
      ]
    },
    {
      "cell_type": "code",
      "execution_count": null,
      "id": "363cfa72",
      "metadata": {
        "id": "363cfa72",
        "outputId": "f78f948e-4049-482d-d6ba-2d016e51b3f3"
      },
      "outputs": [
        {
          "name": "stdout",
          "output_type": "stream",
          "text": [
            "<class 'numpy.ndarray'>\n"
          ]
        }
      ],
      "source": [
        "c=np.array(['a','b','c','d'])\n",
        "print(type(c))"
      ]
    },
    {
      "cell_type": "code",
      "execution_count": null,
      "id": "7888e18e",
      "metadata": {
        "id": "7888e18e",
        "outputId": "bb40ff72-e810-430e-bf62-f71edecef026"
      },
      "outputs": [
        {
          "data": {
            "text/plain": [
              "array(['a', 'bbb', '12', '1@'], dtype='<U3')"
            ]
          },
          "execution_count": 6,
          "metadata": {},
          "output_type": "execute_result"
        }
      ],
      "source": [
        "d=np.array(['a','bbb','12','1@'])\n",
        "d"
      ]
    },
    {
      "cell_type": "code",
      "execution_count": null,
      "id": "8db86401",
      "metadata": {
        "id": "8db86401",
        "outputId": "c87f1699-9ce9-4df7-a410-5c081d223c99"
      },
      "outputs": [
        {
          "name": "stdout",
          "output_type": "stream",
          "text": [
            "<class 'numpy.ndarray'>\n"
          ]
        },
        {
          "data": {
            "text/plain": [
              "array(['a', 'bbb', '12', '1@', '1', '1.4'], dtype='<U32')"
            ]
          },
          "execution_count": 7,
          "metadata": {},
          "output_type": "execute_result"
        }
      ],
      "source": [
        "e=np.array(['a','bbb','12','1@',1,1.4])\n",
        "print(type(e))\n",
        "e"
      ]
    },
    {
      "cell_type": "code",
      "execution_count": null,
      "id": "04f8a26a",
      "metadata": {
        "id": "04f8a26a",
        "outputId": "c0f99493-d464-450d-b5c0-61c1c298f345"
      },
      "outputs": [
        {
          "data": {
            "text/plain": [
              "array(['a', 'bbb', '12', '1@', '1', '1.4'], dtype='<U32')"
            ]
          },
          "execution_count": 8,
          "metadata": {},
          "output_type": "execute_result"
        }
      ],
      "source": [
        "e=np.array(['a','bbb','12','1@',1,1.4])\n",
        "e"
      ]
    },
    {
      "cell_type": "code",
      "execution_count": null,
      "id": "37cb20b2",
      "metadata": {
        "id": "37cb20b2",
        "outputId": "926f3596-f1a4-4753-da58-73fa70d9b835"
      },
      "outputs": [
        {
          "data": {
            "text/plain": [
              "array(['a', 'bbb', '12', '1@', 1, 1.4, {'abcd': 'rameash'}], dtype=object)"
            ]
          },
          "execution_count": 9,
          "metadata": {},
          "output_type": "execute_result"
        }
      ],
      "source": [
        "f=np.array(['a','bbb','12','1@',1,1.4,{'abcd':\"rameash\"}])\n",
        "f\n",
        "#f.itemsize\n",
        "#f.dtype"
      ]
    },
    {
      "cell_type": "markdown",
      "id": "688f2501",
      "metadata": {
        "id": "688f2501"
      },
      "source": [
        "ACCESSING THE ELEMENTS OF 1-D ARRAY: WE CAN ACCESS THE ELEMENTS OF 1-D NumPy ARRAY USING INDICES...INDEX STARTS FROM 0 &ENDS AT (NUMBER OF EELEMENTS IN ARRAY - 1)"
      ]
    },
    {
      "cell_type": "code",
      "execution_count": null,
      "id": "c4e57603",
      "metadata": {
        "id": "c4e57603",
        "outputId": "abc24ed6-4590-4bb6-8176-c726c8dcc949"
      },
      "outputs": [
        {
          "data": {
            "text/plain": [
              "1"
            ]
          },
          "execution_count": 10,
          "metadata": {},
          "output_type": "execute_result"
        }
      ],
      "source": [
        "a[0]"
      ]
    },
    {
      "cell_type": "code",
      "execution_count": null,
      "id": "6c8231cc",
      "metadata": {
        "id": "6c8231cc",
        "outputId": "86c43f62-a825-4c2a-84c2-46303c68f426"
      },
      "outputs": [
        {
          "name": "stdout",
          "output_type": "stream",
          "text": [
            "[1 2 3 4]\n"
          ]
        },
        {
          "ename": "IndexError",
          "evalue": "index 4 is out of bounds for axis 0 with size 4",
          "output_type": "error",
          "traceback": [
            "\u001b[1;31m---------------------------------------------------------------------------\u001b[0m",
            "\u001b[1;31mIndexError\u001b[0m                                Traceback (most recent call last)",
            "\u001b[1;32m~\\AppData\\Local\\Temp\\ipykernel_3532\\722290585.py\u001b[0m in \u001b[0;36m<module>\u001b[1;34m\u001b[0m\n\u001b[0;32m      1\u001b[0m \u001b[0mprint\u001b[0m\u001b[1;33m(\u001b[0m\u001b[0ma\u001b[0m\u001b[1;33m)\u001b[0m\u001b[1;33m\u001b[0m\u001b[1;33m\u001b[0m\u001b[0m\n\u001b[1;32m----> 2\u001b[1;33m \u001b[0mprint\u001b[0m\u001b[1;33m(\u001b[0m\u001b[0ma\u001b[0m\u001b[1;33m[\u001b[0m\u001b[1;36m4\u001b[0m\u001b[1;33m]\u001b[0m\u001b[1;33m)\u001b[0m\u001b[1;33m\u001b[0m\u001b[1;33m\u001b[0m\u001b[0m\n\u001b[0m",
            "\u001b[1;31mIndexError\u001b[0m: index 4 is out of bounds for axis 0 with size 4"
          ]
        }
      ],
      "source": [
        "print(a)\n",
        "print(a[4])\n"
      ]
    },
    {
      "cell_type": "code",
      "execution_count": null,
      "id": "ef4889b5",
      "metadata": {
        "id": "ef4889b5"
      },
      "outputs": [],
      "source": [
        "#a[4]"
      ]
    },
    {
      "cell_type": "code",
      "execution_count": null,
      "id": "1b8f7e14",
      "metadata": {
        "id": "1b8f7e14"
      },
      "outputs": [],
      "source": [
        "#dir(f)"
      ]
    },
    {
      "cell_type": "code",
      "execution_count": null,
      "id": "30739963",
      "metadata": {
        "id": "30739963",
        "outputId": "bd98b5fc-59db-40a7-ed14-64c4ad7012e8"
      },
      "outputs": [
        {
          "data": {
            "text/plain": [
              "4"
            ]
          },
          "execution_count": 13,
          "metadata": {},
          "output_type": "execute_result"
        }
      ],
      "source": [
        "a.itemsize"
      ]
    },
    {
      "cell_type": "code",
      "execution_count": null,
      "id": "241699a0",
      "metadata": {
        "id": "241699a0",
        "outputId": "b782a6b2-8b8f-46ce-f3f3-d60aa558d27a"
      },
      "outputs": [
        {
          "name": "stdout",
          "output_type": "stream",
          "text": [
            "[9.   8.3  7.12]\n"
          ]
        },
        {
          "data": {
            "text/plain": [
              "8"
            ]
          },
          "execution_count": 14,
          "metadata": {},
          "output_type": "execute_result"
        }
      ],
      "source": [
        "print(b)\n",
        "b.itemsize"
      ]
    },
    {
      "cell_type": "code",
      "execution_count": null,
      "id": "68a6f335",
      "metadata": {
        "id": "68a6f335",
        "outputId": "9cae8136-c547-4e8b-83a1-c39b2da57034"
      },
      "outputs": [
        {
          "name": "stdout",
          "output_type": "stream",
          "text": [
            "['a' 'b' 'c' 'd']\n"
          ]
        },
        {
          "data": {
            "text/plain": [
              "4"
            ]
          },
          "execution_count": 15,
          "metadata": {},
          "output_type": "execute_result"
        }
      ],
      "source": [
        "print(c)\n",
        "c.itemsize"
      ]
    },
    {
      "cell_type": "code",
      "execution_count": null,
      "id": "b8f0b6fd",
      "metadata": {
        "id": "b8f0b6fd",
        "outputId": "eae1b88e-9080-4121-a76c-106f222c94fc"
      },
      "outputs": [
        {
          "name": "stdout",
          "output_type": "stream",
          "text": [
            "['a' 'bbb' '12' '1@']\n",
            "12\n",
            "36\n"
          ]
        }
      ],
      "source": [
        "print(d)\n",
        "print(d.itemsize)\n",
        "a111=np.array(['a' 'bbbb' '12' '1@'])\n",
        "print(a111.itemsize)"
      ]
    },
    {
      "cell_type": "code",
      "execution_count": null,
      "id": "2931ae4d",
      "metadata": {
        "id": "2931ae4d",
        "outputId": "78cd3890-0bbc-43f9-86d1-65372c92204f"
      },
      "outputs": [
        {
          "name": "stdout",
          "output_type": "stream",
          "text": [
            "['a' 'bbb' '12' '1@' '1' '1.4']\n"
          ]
        },
        {
          "data": {
            "text/plain": [
              "128"
            ]
          },
          "execution_count": 17,
          "metadata": {},
          "output_type": "execute_result"
        }
      ],
      "source": [
        "print(e)\n",
        "e.itemsize"
      ]
    },
    {
      "cell_type": "code",
      "execution_count": null,
      "id": "2348780a",
      "metadata": {
        "id": "2348780a",
        "outputId": "22283798-995e-4b09-c209-99bb73fd164a"
      },
      "outputs": [
        {
          "data": {
            "text/plain": [
              "8"
            ]
          },
          "execution_count": 18,
          "metadata": {},
          "output_type": "execute_result"
        }
      ],
      "source": [
        "d[3].itemsize"
      ]
    },
    {
      "cell_type": "code",
      "execution_count": null,
      "id": "91aeaaac",
      "metadata": {
        "id": "91aeaaac",
        "outputId": "eea838ae-a055-496c-8af7-cdb85255a776"
      },
      "outputs": [
        {
          "data": {
            "text/plain": [
              "8"
            ]
          },
          "execution_count": 19,
          "metadata": {},
          "output_type": "execute_result"
        }
      ],
      "source": [
        "e[3].itemsize"
      ]
    },
    {
      "cell_type": "code",
      "execution_count": null,
      "id": "1bde87ce",
      "metadata": {
        "id": "1bde87ce",
        "outputId": "d84dc096-684b-4704-e676-fd3c140300f9"
      },
      "outputs": [
        {
          "name": "stdout",
          "output_type": "stream",
          "text": [
            "['a' 'bbb' '12' '1@' 1 1.4 {'abcd': 'rameash'}]\n",
            "<class 'dict'>\n"
          ]
        }
      ],
      "source": [
        "print(f)\n",
        "print(type(f[6]))"
      ]
    },
    {
      "cell_type": "code",
      "execution_count": null,
      "id": "2216197b",
      "metadata": {
        "id": "2216197b",
        "outputId": "bb18e0da-7897-41c2-fdec-5f6cad1761f3"
      },
      "outputs": [
        {
          "name": "stdout",
          "output_type": "stream",
          "text": [
            "<class 'numpy.str_'>\n"
          ]
        }
      ],
      "source": [
        "print(type(e[3]))"
      ]
    },
    {
      "cell_type": "code",
      "execution_count": null,
      "id": "a87d73d3",
      "metadata": {
        "id": "a87d73d3",
        "outputId": "5baef660-a12e-4f8c-8a72-ec018eb9fdde"
      },
      "outputs": [
        {
          "data": {
            "text/plain": [
              "2"
            ]
          },
          "execution_count": 22,
          "metadata": {},
          "output_type": "execute_result"
        }
      ],
      "source": [
        "len(f[2])"
      ]
    },
    {
      "cell_type": "markdown",
      "id": "3419f66c",
      "metadata": {
        "id": "3419f66c"
      },
      "source": [
        "2-D ARRAY"
      ]
    },
    {
      "cell_type": "code",
      "execution_count": null,
      "id": "c4b898fc",
      "metadata": {
        "id": "c4b898fc",
        "outputId": "abe8bf5a-e14e-4613-dad8-abe6311f6083"
      },
      "outputs": [
        {
          "data": {
            "text/plain": [
              "array([[ 1,  2,  3,  4],\n",
              "       [ 5,  6,  7,  8],\n",
              "       [10, 11, 12, 13]])"
            ]
          },
          "execution_count": 23,
          "metadata": {},
          "output_type": "execute_result"
        }
      ],
      "source": [
        "a1=np.array([[1,2,3,4],[5,6,7,8],[10,11,12,13]])\n",
        "a1"
      ]
    },
    {
      "cell_type": "code",
      "execution_count": null,
      "id": "4ce22f6d",
      "metadata": {
        "id": "4ce22f6d",
        "outputId": "99e902c1-35bd-4ad3-c2a2-c05cdec512ae"
      },
      "outputs": [
        {
          "data": {
            "text/plain": [
              "2"
            ]
          },
          "execution_count": 24,
          "metadata": {},
          "output_type": "execute_result"
        }
      ],
      "source": [
        "a1.ndim"
      ]
    },
    {
      "cell_type": "code",
      "execution_count": null,
      "id": "3948ea4d",
      "metadata": {
        "id": "3948ea4d",
        "outputId": "eaac01c9-50f0-43e7-a47f-92b5033375bb"
      },
      "outputs": [
        {
          "data": {
            "text/plain": [
              "1"
            ]
          },
          "execution_count": 25,
          "metadata": {},
          "output_type": "execute_result"
        }
      ],
      "source": [
        "a.ndim"
      ]
    },
    {
      "cell_type": "code",
      "execution_count": null,
      "id": "eba4f34e",
      "metadata": {
        "id": "eba4f34e",
        "outputId": "acd871a9-6e14-43bf-f0f5-42946abdc368"
      },
      "outputs": [
        {
          "data": {
            "text/plain": [
              "(3, 4)"
            ]
          },
          "execution_count": 26,
          "metadata": {},
          "output_type": "execute_result"
        }
      ],
      "source": [
        "a1.shape"
      ]
    },
    {
      "cell_type": "code",
      "execution_count": null,
      "id": "8dda5988",
      "metadata": {
        "id": "8dda5988",
        "outputId": "97d6e12c-4f57-4fbe-a6aa-c21e6b9e82b9"
      },
      "outputs": [
        {
          "data": {
            "text/plain": [
              "1"
            ]
          },
          "execution_count": 27,
          "metadata": {},
          "output_type": "execute_result"
        }
      ],
      "source": [
        "a1[0,0]"
      ]
    },
    {
      "cell_type": "code",
      "execution_count": null,
      "id": "c32daaf7",
      "metadata": {
        "id": "c32daaf7",
        "outputId": "15ba09c7-24fa-4024-a1e5-eb74aafc794f"
      },
      "outputs": [
        {
          "data": {
            "text/plain": [
              "8"
            ]
          },
          "execution_count": 28,
          "metadata": {},
          "output_type": "execute_result"
        }
      ],
      "source": [
        "a1[1,3]"
      ]
    },
    {
      "cell_type": "code",
      "execution_count": null,
      "id": "4f985e1e",
      "metadata": {
        "id": "4f985e1e",
        "outputId": "6d3add62-2795-4c5f-80e5-5ad00c18f5e5"
      },
      "outputs": [
        {
          "name": "stdout",
          "output_type": "stream",
          "text": [
            "[[ 1  2  3  4]\n",
            " [ 5  6  7  8]\n",
            " [10 11 12 13]]\n",
            "(3, 4)\n"
          ]
        },
        {
          "data": {
            "text/plain": [
              "4"
            ]
          },
          "execution_count": 29,
          "metadata": {},
          "output_type": "execute_result"
        }
      ],
      "source": [
        "print(a1)\n",
        "print(a1.shape)\n",
        "row,col=a1.shape\n",
        "col"
      ]
    },
    {
      "cell_type": "code",
      "execution_count": null,
      "id": "12676860",
      "metadata": {
        "id": "12676860",
        "outputId": "2fcfda99-e2c1-4ebf-9264-a7ace1977d61"
      },
      "outputs": [
        {
          "data": {
            "text/plain": [
              "3"
            ]
          },
          "execution_count": 30,
          "metadata": {},
          "output_type": "execute_result"
        }
      ],
      "source": [
        "row"
      ]
    },
    {
      "cell_type": "code",
      "execution_count": null,
      "id": "0ad6478e",
      "metadata": {
        "id": "0ad6478e",
        "outputId": "f8cdfa1b-d3aa-41fb-ff20-d369d0b07f67"
      },
      "outputs": [
        {
          "name": "stdout",
          "output_type": "stream",
          "text": [
            "[[ 2.  4.  6.  8.]\n",
            " [10. 12. 14. 16.]\n",
            " [20. 22. 24. 26.]]\n"
          ]
        }
      ],
      "source": [
        "a5=np.zeros((row,col))\n",
        "for i in range(row):\n",
        "    for j in range(col):\n",
        "        a5[i,j]=a1[i,j]+a1[i,j]\n",
        "print(a5)"
      ]
    },
    {
      "cell_type": "code",
      "execution_count": null,
      "id": "0f99282f",
      "metadata": {
        "id": "0f99282f",
        "outputId": "43a1d2af-3c5f-4d7a-859e-a8654d7f762e"
      },
      "outputs": [
        {
          "data": {
            "text/plain": [
              "48"
            ]
          },
          "execution_count": 32,
          "metadata": {},
          "output_type": "execute_result"
        }
      ],
      "source": [
        "a1.nbytes"
      ]
    },
    {
      "cell_type": "markdown",
      "id": "861a7980",
      "metadata": {
        "id": "861a7980"
      },
      "source": [
        "ACCESSING ELEMENTS USING SLICING"
      ]
    },
    {
      "cell_type": "code",
      "execution_count": null,
      "id": "c3fdb1cd",
      "metadata": {
        "id": "c3fdb1cd",
        "outputId": "11bbc81a-c7a9-4cf4-89da-86720bd4f38e"
      },
      "outputs": [
        {
          "name": "stdout",
          "output_type": "stream",
          "text": [
            "[1 2 3 4 5 6 7 8]\n",
            "[3 4 5]\n",
            "[8]\n",
            "[1 2 3 4 5 6 7]\n",
            "[1 2 3 4 5 6 7]\n"
          ]
        }
      ],
      "source": [
        "a2=np.array([1,2,3,4,5,6,7,8])\n",
        "print(a2[:])\n",
        "print(a2[2:5])\n",
        "print(a2[-1:])\n",
        "print(a2[:-1])\n",
        "print(a2[0:-1])"
      ]
    },
    {
      "cell_type": "code",
      "execution_count": null,
      "id": "c3451e37",
      "metadata": {
        "id": "c3451e37",
        "outputId": "1b5f80fd-a61b-44ca-bea5-fa8c5db33cac"
      },
      "outputs": [
        {
          "name": "stdout",
          "output_type": "stream",
          "text": [
            "[1 2 3 4 5 6 7 8]\n"
          ]
        }
      ],
      "source": [
        "print(a2[-8:])"
      ]
    },
    {
      "cell_type": "code",
      "execution_count": null,
      "id": "a31f423a",
      "metadata": {
        "id": "a31f423a",
        "outputId": "3ec9598a-6f08-492c-f19a-7479838b6c7a"
      },
      "outputs": [
        {
          "name": "stdout",
          "output_type": "stream",
          "text": [
            "[]\n"
          ]
        }
      ],
      "source": [
        "print(a2[-8:0])"
      ]
    },
    {
      "cell_type": "code",
      "execution_count": null,
      "id": "b3a9db53",
      "metadata": {
        "id": "b3a9db53",
        "outputId": "2d9d1629-8080-458c-a542-6d1b4912c8e7"
      },
      "outputs": [
        {
          "name": "stdout",
          "output_type": "stream",
          "text": [
            "[1 2 3 4 5]\n"
          ]
        }
      ],
      "source": [
        "print(a2[-8:-3])"
      ]
    },
    {
      "cell_type": "code",
      "execution_count": null,
      "id": "af9c4d01",
      "metadata": {
        "id": "af9c4d01",
        "outputId": "c42181cb-b2e2-4e3b-d091-ebeb679e70d7"
      },
      "outputs": [
        {
          "data": {
            "text/plain": [
              "array([[ 1,  2,  3,  4,  5],\n",
              "       [ 6,  7,  8,  9, 10],\n",
              "       [11, 12, 13, 14, 15],\n",
              "       [16, 17, 18, 19, 20]])"
            ]
          },
          "execution_count": 37,
          "metadata": {},
          "output_type": "execute_result"
        }
      ],
      "source": [
        "a3=np.array([[1,2,3,4,5],[6,7,8,9,10],[11,12,13,14,15],[16,17,18,19,20]])\n",
        "a3"
      ]
    },
    {
      "cell_type": "code",
      "execution_count": null,
      "id": "61826f68",
      "metadata": {
        "id": "61826f68",
        "outputId": "07a9c5d3-53aa-41a9-c82e-b5e7424f153a"
      },
      "outputs": [
        {
          "data": {
            "text/plain": [
              "array([[ 1,  2,  3,  4,  5],\n",
              "       [ 6,  7,  8,  9, 10],\n",
              "       [11, 12, 13, 14, 15],\n",
              "       [16, 17, 18, 19, 20]])"
            ]
          },
          "execution_count": 38,
          "metadata": {},
          "output_type": "execute_result"
        }
      ],
      "source": [
        "a3[:]"
      ]
    },
    {
      "cell_type": "code",
      "execution_count": null,
      "id": "1ac38f01",
      "metadata": {
        "id": "1ac38f01",
        "outputId": "e62efbd4-cd09-4ef1-c63e-99f0382a2216"
      },
      "outputs": [
        {
          "data": {
            "text/plain": [
              "array([[ 6,  7,  8,  9, 10],\n",
              "       [11, 12, 13, 14, 15],\n",
              "       [16, 17, 18, 19, 20]])"
            ]
          },
          "execution_count": 39,
          "metadata": {},
          "output_type": "execute_result"
        }
      ],
      "source": [
        "a3[1:]"
      ]
    },
    {
      "cell_type": "code",
      "execution_count": null,
      "id": "03844363",
      "metadata": {
        "id": "03844363",
        "outputId": "a52241e5-adbf-40e6-b6da-a76932a55e63"
      },
      "outputs": [
        {
          "data": {
            "text/plain": [
              "array([[1, 2, 3, 4, 5]])"
            ]
          },
          "execution_count": 40,
          "metadata": {},
          "output_type": "execute_result"
        }
      ],
      "source": [
        "a3[:1]"
      ]
    },
    {
      "cell_type": "code",
      "execution_count": null,
      "id": "ee3bf90b",
      "metadata": {
        "id": "ee3bf90b",
        "outputId": "bb764037-4fc5-45d5-a364-7d023d137c72"
      },
      "outputs": [
        {
          "name": "stdout",
          "output_type": "stream",
          "text": [
            "[[ 1  2  3  4  5]\n",
            " [ 6  7  8  9 10]\n",
            " [11 12 13 14 15]\n",
            " [16 17 18 19 20]]\n"
          ]
        },
        {
          "data": {
            "text/plain": [
              "array([[1, 2, 3, 4, 5]])"
            ]
          },
          "execution_count": 41,
          "metadata": {},
          "output_type": "execute_result"
        }
      ],
      "source": [
        "print(a3)\n",
        "a3[:1,:]"
      ]
    },
    {
      "cell_type": "code",
      "execution_count": null,
      "id": "c7c908cb",
      "metadata": {
        "id": "c7c908cb",
        "outputId": "f476f7e3-4f36-4b68-cc9d-5711e2ea61e6"
      },
      "outputs": [
        {
          "name": "stdout",
          "output_type": "stream",
          "text": [
            "[[ 1  2  3  4  5]\n",
            " [ 6  7  8  9 10]\n",
            " [11 12 13 14 15]\n",
            " [16 17 18 19 20]]\n"
          ]
        },
        {
          "data": {
            "text/plain": [
              "array([[ 3],\n",
              "       [ 8],\n",
              "       [13],\n",
              "       [18]])"
            ]
          },
          "execution_count": 42,
          "metadata": {},
          "output_type": "execute_result"
        }
      ],
      "source": [
        "print(a3)\n",
        "a3[:,2:3]"
      ]
    },
    {
      "cell_type": "code",
      "execution_count": null,
      "id": "a615e074",
      "metadata": {
        "id": "a615e074",
        "outputId": "74633e7c-88e5-4df8-d05a-7c6bc2a12a23"
      },
      "outputs": [
        {
          "name": "stdout",
          "output_type": "stream",
          "text": [
            "[[ 1  2  3  4  5]\n",
            " [ 6  7  8  9 10]\n",
            " [11 12 13 14 15]\n",
            " [16 17 18 19 20]]\n"
          ]
        },
        {
          "data": {
            "text/plain": [
              "array([[ 7,  8,  9],\n",
              "       [12, 13, 14]])"
            ]
          },
          "execution_count": 43,
          "metadata": {},
          "output_type": "execute_result"
        }
      ],
      "source": [
        "print(a3)\n",
        "a3[1:3,1:4]"
      ]
    },
    {
      "cell_type": "code",
      "execution_count": null,
      "id": "dc911942",
      "metadata": {
        "id": "dc911942"
      },
      "outputs": [],
      "source": [
        "a4=np.array([1,2,3,4], dtype='int16')"
      ]
    },
    {
      "cell_type": "code",
      "execution_count": null,
      "id": "9e273a55",
      "metadata": {
        "id": "9e273a55",
        "outputId": "7f960011-23dc-435d-afb5-f6bd742e1518"
      },
      "outputs": [
        {
          "data": {
            "text/plain": [
              "2"
            ]
          },
          "execution_count": 45,
          "metadata": {},
          "output_type": "execute_result"
        }
      ],
      "source": [
        "a4.itemsize"
      ]
    },
    {
      "cell_type": "code",
      "execution_count": null,
      "id": "f9c23760",
      "metadata": {
        "id": "f9c23760",
        "outputId": "e29016df-e46a-458e-8908-8a257e67cd96"
      },
      "outputs": [
        {
          "data": {
            "text/plain": [
              "8"
            ]
          },
          "execution_count": 46,
          "metadata": {},
          "output_type": "execute_result"
        }
      ],
      "source": [
        "a5=np.array([1,2,3,4], dtype='float64')\n",
        "a5\n",
        "a5.itemsize"
      ]
    },
    {
      "cell_type": "code",
      "execution_count": null,
      "id": "f476f52a",
      "metadata": {
        "id": "f476f52a",
        "outputId": "4ec0f8e8-ac09-4eab-b6fa-fe4063ea5e4d"
      },
      "outputs": [
        {
          "name": "stdout",
          "output_type": "stream",
          "text": [
            "[1. 2. 3. 4.]\n",
            "4\n",
            "8\n"
          ]
        },
        {
          "data": {
            "text/plain": [
              "32"
            ]
          },
          "execution_count": 47,
          "metadata": {},
          "output_type": "execute_result"
        }
      ],
      "source": [
        "print(a5)\n",
        "print(a5.size)\n",
        "print(a5.itemsize)\n",
        "size=a5.size*a5.itemsize\n",
        "size"
      ]
    },
    {
      "cell_type": "code",
      "execution_count": null,
      "id": "19fc6c5a",
      "metadata": {
        "id": "19fc6c5a",
        "outputId": "ed0a332d-7e9e-44df-c94b-1778261a1fc5"
      },
      "outputs": [
        {
          "data": {
            "text/plain": [
              "32"
            ]
          },
          "execution_count": 48,
          "metadata": {},
          "output_type": "execute_result"
        }
      ],
      "source": [
        "a5.nbytes"
      ]
    },
    {
      "cell_type": "code",
      "execution_count": null,
      "id": "103b70ca",
      "metadata": {
        "id": "103b70ca",
        "outputId": "c41856fd-eae5-4411-bbbd-1c0c19b4dedc"
      },
      "outputs": [
        {
          "name": "stdout",
          "output_type": "stream",
          "text": [
            "16\n",
            "96\n",
            "96\n"
          ]
        }
      ],
      "source": [
        "a51=np.array([[1,2],[3,4],[5,6]],dtype=complex)\n",
        "print(a51.itemsize)# CREATES AN ARRAY WITH COMPLEX NUMBERS\n",
        "size=a51.size*a51.itemsize\n",
        "print(size)\n",
        "print(a51.nbytes)"
      ]
    },
    {
      "cell_type": "code",
      "execution_count": null,
      "id": "7dd4fcc9",
      "metadata": {
        "id": "7dd4fcc9",
        "outputId": "b12c5d56-9877-4728-ebac-faa3a652a2ca"
      },
      "outputs": [
        {
          "name": "stdout",
          "output_type": "stream",
          "text": [
            "[[ 1  2  3  4  5  6  7]\n",
            " [ 8  9 10 11 12 13 14]]\n"
          ]
        }
      ],
      "source": [
        "a = np.array([[1,2,3,4,5,6,7],[8,9,10,11,12,13,14]])\n",
        "print(a)"
      ]
    },
    {
      "cell_type": "code",
      "execution_count": null,
      "id": "58787901",
      "metadata": {
        "id": "58787901",
        "outputId": "4dd1a463-1a84-4111-bc7c-85f1d78fcca2"
      },
      "outputs": [
        {
          "data": {
            "text/plain": [
              "13"
            ]
          },
          "execution_count": 51,
          "metadata": {},
          "output_type": "execute_result"
        }
      ],
      "source": [
        "# Get a specific element [r, c]\n",
        "a[1, 5]"
      ]
    },
    {
      "cell_type": "code",
      "execution_count": null,
      "id": "dbda906a",
      "metadata": {
        "id": "dbda906a",
        "outputId": "6d58ef5a-8517-43d4-b0e0-c75048438780"
      },
      "outputs": [
        {
          "data": {
            "text/plain": [
              "array([1, 2, 3, 4, 5, 6, 7])"
            ]
          },
          "execution_count": 52,
          "metadata": {},
          "output_type": "execute_result"
        }
      ],
      "source": [
        "# Get a specific row\n",
        "a[0, :]"
      ]
    },
    {
      "cell_type": "code",
      "execution_count": null,
      "id": "f9d60826",
      "metadata": {
        "id": "f9d60826",
        "outputId": "d58cafaf-52d6-4ce6-994a-26e9d74bb26a"
      },
      "outputs": [
        {
          "data": {
            "text/plain": [
              "array([ 3, 10])"
            ]
          },
          "execution_count": 53,
          "metadata": {},
          "output_type": "execute_result"
        }
      ],
      "source": [
        "# Get a specific column\n",
        "a[:, 2]"
      ]
    },
    {
      "cell_type": "code",
      "execution_count": null,
      "id": "33e70d4e",
      "metadata": {
        "id": "33e70d4e",
        "outputId": "9ed6deb6-ec5e-40e3-e808-2ffd5515add7"
      },
      "outputs": [
        {
          "data": {
            "text/plain": [
              "array([2, 4, 6])"
            ]
          },
          "execution_count": 54,
          "metadata": {},
          "output_type": "execute_result"
        }
      ],
      "source": [
        "# Getting a little more fancy [startindex:endindex:stepsize]\n",
        "a[0, 1:6:2]"
      ]
    },
    {
      "cell_type": "code",
      "execution_count": null,
      "id": "3e14e801",
      "metadata": {
        "id": "3e14e801",
        "outputId": "e7026a56-879e-4c3b-bed1-8b9f5ade9fd0"
      },
      "outputs": [
        {
          "data": {
            "text/plain": [
              "array([[ 2,  3,  4,  5,  6],\n",
              "       [ 9, 10, 11, 12, 13]])"
            ]
          },
          "execution_count": 55,
          "metadata": {},
          "output_type": "execute_result"
        }
      ],
      "source": [
        "a[:,1:-1]"
      ]
    },
    {
      "cell_type": "code",
      "execution_count": null,
      "id": "2726240b",
      "metadata": {
        "id": "2726240b",
        "outputId": "29a21867-c71b-4ff0-ac7d-602ef7b93a1f"
      },
      "outputs": [
        {
          "data": {
            "text/plain": [
              "array([[ 2,  4,  6],\n",
              "       [ 9, 11, 13]])"
            ]
          },
          "execution_count": 56,
          "metadata": {},
          "output_type": "execute_result"
        }
      ],
      "source": [
        "a[:,1:-1:2]"
      ]
    },
    {
      "cell_type": "code",
      "execution_count": null,
      "id": "c3129b9d",
      "metadata": {
        "id": "c3129b9d",
        "outputId": "7f80d967-0f58-40a1-c460-33ba39fc9ccc"
      },
      "outputs": [
        {
          "data": {
            "text/plain": [
              "array([[ 1,  2,  3,  4,  5],\n",
              "       [ 6,  7,  8,  9, 10],\n",
              "       [11, 12, 13, 14, 15],\n",
              "       [16, 17, 18, 19, 20]])"
            ]
          },
          "execution_count": 57,
          "metadata": {},
          "output_type": "execute_result"
        }
      ],
      "source": [
        "a3[:]"
      ]
    },
    {
      "cell_type": "code",
      "execution_count": null,
      "id": "5af5081a",
      "metadata": {
        "id": "5af5081a",
        "outputId": "afa45698-2982-4748-c9eb-40e6c2ea4eab"
      },
      "outputs": [
        {
          "data": {
            "text/plain": [
              "array([ 6,  8, 10])"
            ]
          },
          "execution_count": 58,
          "metadata": {},
          "output_type": "execute_result"
        }
      ],
      "source": [
        "a3[1,::2]"
      ]
    },
    {
      "cell_type": "code",
      "execution_count": null,
      "id": "fb875854",
      "metadata": {
        "id": "fb875854",
        "outputId": "301febda-162a-42b6-e078-fd661b89af70"
      },
      "outputs": [
        {
          "data": {
            "text/plain": [
              "array([[ 6,  7,  8,  9, 10],\n",
              "       [16, 17, 18, 19, 20]])"
            ]
          },
          "execution_count": 59,
          "metadata": {},
          "output_type": "execute_result"
        }
      ],
      "source": [
        "a3[1::2]"
      ]
    },
    {
      "cell_type": "markdown",
      "id": "182288ab",
      "metadata": {
        "id": "182288ab"
      },
      "source": [
        "# STRIDES"
      ]
    },
    {
      "cell_type": "markdown",
      "id": "54f501ae",
      "metadata": {
        "id": "54f501ae"
      },
      "source": [
        "The strides of an array tell us how many bytes we have to skip in memory to move to the next position along a certain axis."
      ]
    },
    {
      "cell_type": "code",
      "execution_count": null,
      "id": "3d521ff5",
      "metadata": {
        "id": "3d521ff5",
        "outputId": "0f51aeae-2a48-480b-f943-0f25b74a4785"
      },
      "outputs": [
        {
          "data": {
            "text/plain": [
              "(20, 4)"
            ]
          },
          "execution_count": 60,
          "metadata": {},
          "output_type": "execute_result"
        }
      ],
      "source": [
        "import numpy as np\n",
        "x = np.array([[0, 1, 2, 3, 4],\n",
        "              [5, 6, 7, 8, 9]], dtype=np.int32)\n",
        "x.strides"
      ]
    },
    {
      "cell_type": "code",
      "execution_count": null,
      "id": "15bcdb9e",
      "metadata": {
        "id": "15bcdb9e",
        "outputId": "e0466ddb-ad75-4573-9f8e-e5e18eae9733"
      },
      "outputs": [
        {
          "data": {
            "text/plain": [
              "array([[[ 0,  1,  2,  3],\n",
              "        [ 4,  5,  6,  7],\n",
              "        [ 8,  9, 10, 11]],\n",
              "\n",
              "       [[12, 13, 14, 15],\n",
              "        [16, 17, 18, 19],\n",
              "        [20, 21, 22, 23]]])"
            ]
          },
          "execution_count": 61,
          "metadata": {},
          "output_type": "execute_result"
        }
      ],
      "source": [
        "y = np.reshape(np.arange(2*3*4), (2,3,4))\n",
        "y"
      ]
    },
    {
      "cell_type": "code",
      "execution_count": null,
      "id": "309873ef",
      "metadata": {
        "id": "309873ef",
        "outputId": "88ceacce-d8c6-431d-db69-59e231d5da3f"
      },
      "outputs": [
        {
          "data": {
            "text/plain": [
              "(48, 16, 4)"
            ]
          },
          "execution_count": 62,
          "metadata": {},
          "output_type": "execute_result"
        }
      ],
      "source": [
        "y.strides"
      ]
    },
    {
      "cell_type": "code",
      "execution_count": null,
      "id": "ec59ebcf",
      "metadata": {
        "id": "ec59ebcf",
        "outputId": "7cac317c-de61-4577-f1fd-6a9afab61696"
      },
      "outputs": [
        {
          "data": {
            "text/plain": [
              "17"
            ]
          },
          "execution_count": 63,
          "metadata": {},
          "output_type": "execute_result"
        }
      ],
      "source": [
        "y[1,1,1]"
      ]
    },
    {
      "cell_type": "markdown",
      "id": "0b011aa2",
      "metadata": {
        "id": "0b011aa2"
      },
      "source": [
        "# LIST VS NumPy ARRAY"
      ]
    },
    {
      "cell_type": "markdown",
      "id": "4423ab73",
      "metadata": {
        "id": "4423ab73"
      },
      "source": [
        "SEVERAL BENEFITS: MAJOR BENEFITS OF NUMPY ARRAY OVER A PYTHON LIST\n",
        "\n",
        "-- LESS MEMORY\n",
        "\n",
        "--FAST\n",
        "\n",
        "--CONVENIENT"
      ]
    },
    {
      "cell_type": "code",
      "execution_count": null,
      "id": "bc254edd",
      "metadata": {
        "id": "bc254edd",
        "outputId": "dcd9d841-6d8a-494c-c866-a8c80650bbf7"
      },
      "outputs": [
        {
          "name": "stdout",
          "output_type": "stream",
          "text": [
            "28000\n",
            "4000\n"
          ]
        }
      ],
      "source": [
        "import numpy as np\n",
        "import time\n",
        "import sys\n",
        "# CREATING A LIST OF 1000 ELEMENTS\n",
        "l=range(1000)\n",
        "#PRINTING THE SIZE OF THE LIST\n",
        "print(sys.getsizeof(1)*len(l))\n",
        "# CREATING A NUMPY ARRAY OF 1000 ELEMENTS\n",
        "array=np.arange(1000)\n",
        "#PRINTING THE SIZE OF THE LIST\n",
        "print(array.size*array.itemsize)"
      ]
    },
    {
      "cell_type": "markdown",
      "id": "0e3dadbf",
      "metadata": {
        "id": "0e3dadbf"
      },
      "source": [
        "![Screenshot%20%28375%29.png](attachment:Screenshot%20%28375%29.png)"
      ]
    },
    {
      "cell_type": "code",
      "execution_count": null,
      "id": "9389d8c8",
      "metadata": {
        "id": "9389d8c8",
        "outputId": "be94e5ff-ea95-49d8-c0f2-83dbedc1cb9b"
      },
      "outputs": [
        {
          "name": "stdout",
          "output_type": "stream",
          "text": [
            "The time taken by python list took: 18.986940383911133\n",
            "The time taken by python numpy array took: 2.9993057250976562\n"
          ]
        }
      ],
      "source": [
        "import numpy as np\n",
        "import time\n",
        "import sys\n",
        "\n",
        "SIZE=100000\n",
        "\n",
        "l1=range(SIZE)\n",
        "l2=range(SIZE)\n",
        "\n",
        "a1=np.arange(SIZE)\n",
        "a2=np.arange(SIZE)\n",
        "\n",
        "start=time.time()\n",
        "result=[(x+y) for x,y in zip(l1,l2)] # LIST COMPREHENSION\n",
        "#print(result)\n",
        "print(\"The time taken by python list took:\",(time.time()-start)*1000)\n",
        "\n",
        "start=time.time()\n",
        "result=a1+a2\n",
        "end=time.time()\n",
        "print(\"The time taken by python numpy array took:\",(end-start)*1000)\n"
      ]
    },
    {
      "cell_type": "markdown",
      "id": "b9416718",
      "metadata": {
        "id": "b9416718"
      },
      "source": [
        "INITIALIZING ARRAYS USING BASIC IN-BUILT FUNCTIONS"
      ]
    },
    {
      "cell_type": "code",
      "execution_count": null,
      "id": "00f83432",
      "metadata": {
        "id": "00f83432",
        "outputId": "244845ee-1ab0-45c0-ab36-07940054d259"
      },
      "outputs": [
        {
          "data": {
            "text/plain": [
              "array([1, 2, 3, 4])"
            ]
          },
          "execution_count": 66,
          "metadata": {},
          "output_type": "execute_result"
        }
      ],
      "source": [
        "a8=np.arange(1,5)\n",
        "a8"
      ]
    },
    {
      "cell_type": "code",
      "execution_count": null,
      "id": "8dbedef6",
      "metadata": {
        "id": "8dbedef6",
        "outputId": "60d867a6-af56-4076-97de-5808a05eedae"
      },
      "outputs": [
        {
          "data": {
            "text/plain": [
              "array([ 1,  6, 11, 16, 21])"
            ]
          },
          "execution_count": 67,
          "metadata": {},
          "output_type": "execute_result"
        }
      ],
      "source": [
        "a9=np.arange(1,22,5)\n",
        "a9"
      ]
    },
    {
      "cell_type": "code",
      "execution_count": null,
      "id": "912e0323",
      "metadata": {
        "id": "912e0323",
        "outputId": "52fd55f1-2087-4d9a-c9d7-c1b7e896dcfd"
      },
      "outputs": [
        {
          "data": {
            "text/plain": [
              "array([ 1,  4,  7, 10, 13, 16, 19])"
            ]
          },
          "execution_count": 68,
          "metadata": {},
          "output_type": "execute_result"
        }
      ],
      "source": [
        "a9=np.arange(1,20,3)\n",
        "a9"
      ]
    },
    {
      "cell_type": "code",
      "execution_count": null,
      "id": "f46e98da",
      "metadata": {
        "id": "f46e98da",
        "outputId": "8ec02efb-4134-42ca-cbc6-ca855a0ce203"
      },
      "outputs": [
        {
          "data": {
            "text/plain": [
              "array([ 0,  2,  4,  6,  8, 10, 12, 14, 16, 18])"
            ]
          },
          "execution_count": 69,
          "metadata": {},
          "output_type": "execute_result"
        }
      ],
      "source": [
        "a9=np.arange(0,20,2)\n",
        "a9"
      ]
    },
    {
      "cell_type": "code",
      "execution_count": null,
      "id": "180f5e2c",
      "metadata": {
        "id": "180f5e2c",
        "outputId": "72002c0d-c43b-4d6e-941c-8c64850093fa"
      },
      "outputs": [
        {
          "data": {
            "text/plain": [
              "array([1., 3., 5.])"
            ]
          },
          "execution_count": 70,
          "metadata": {},
          "output_type": "execute_result"
        }
      ],
      "source": [
        "np.linspace(1,5,3)"
      ]
    },
    {
      "cell_type": "code",
      "execution_count": null,
      "id": "a16af616",
      "metadata": {
        "id": "a16af616",
        "outputId": "7e36f25d-7382-4d91-da3c-89389f9875d5"
      },
      "outputs": [
        {
          "data": {
            "text/plain": [
              "array([1., 2., 3., 4., 5.])"
            ]
          },
          "execution_count": 71,
          "metadata": {},
          "output_type": "execute_result"
        }
      ],
      "source": [
        "np.linspace(1,5,5)"
      ]
    },
    {
      "cell_type": "code",
      "execution_count": null,
      "id": "3f1131ab",
      "metadata": {
        "id": "3f1131ab",
        "outputId": "22107c17-5a95-43fd-e474-3d8ed8cdfa52"
      },
      "outputs": [
        {
          "data": {
            "text/plain": [
              "array([1.        , 1.16666667, 1.33333333, 1.5       , 1.66666667,\n",
              "       1.83333333, 2.        , 2.16666667, 2.33333333, 2.5       ])"
            ]
          },
          "execution_count": 72,
          "metadata": {},
          "output_type": "execute_result"
        }
      ],
      "source": [
        "np.linspace(1,2.5,10)"
      ]
    },
    {
      "cell_type": "code",
      "execution_count": null,
      "id": "2f0b7ca2",
      "metadata": {
        "id": "2f0b7ca2",
        "outputId": "0cbbd571-580c-45a0-a166-66633e809034"
      },
      "outputs": [
        {
          "data": {
            "text/plain": [
              "(3, 2)"
            ]
          },
          "execution_count": 73,
          "metadata": {},
          "output_type": "execute_result"
        }
      ],
      "source": [
        "a11=np.array([[1,2],[3,4],[5,6]])\n",
        "np.shape(a11)"
      ]
    },
    {
      "cell_type": "code",
      "execution_count": null,
      "id": "ec214e51",
      "metadata": {
        "id": "ec214e51",
        "outputId": "7dd0bc06-a4db-4aea-bc40-6bb1f0974fb4"
      },
      "outputs": [
        {
          "data": {
            "text/plain": [
              "array([[1, 2, 3],\n",
              "       [4, 5, 6]])"
            ]
          },
          "execution_count": 74,
          "metadata": {},
          "output_type": "execute_result"
        }
      ],
      "source": [
        "a12=a11.reshape(2,3)\n",
        "a12"
      ]
    },
    {
      "cell_type": "code",
      "execution_count": null,
      "id": "b58b2544",
      "metadata": {
        "id": "b58b2544",
        "outputId": "7d6a27b4-4da7-454e-df48-d80d9591c51b"
      },
      "outputs": [
        {
          "name": "stdout",
          "output_type": "stream",
          "text": [
            "[ 0  1  2  3  4  5  6  7  8  9 10 11]\n",
            "[[ 0  1  2  3]\n",
            " [ 4  5  6  7]\n",
            " [ 8  9 10 11]]\n"
          ]
        }
      ],
      "source": [
        "b=np.arange(12)\n",
        "\n",
        "c=b.reshape(3,4)\n",
        "print(b)\n",
        "print(c)"
      ]
    },
    {
      "cell_type": "code",
      "execution_count": null,
      "id": "4fabed19",
      "metadata": {
        "id": "4fabed19",
        "outputId": "a4c29b44-0bae-40b1-b875-f7f363dccbff"
      },
      "outputs": [
        {
          "data": {
            "text/plain": [
              "array([[1],\n",
              "       [2],\n",
              "       [3],\n",
              "       [4],\n",
              "       [5],\n",
              "       [6]])"
            ]
          },
          "execution_count": 76,
          "metadata": {},
          "output_type": "execute_result"
        }
      ],
      "source": [
        "a12=a11.reshape(6,1)\n",
        "a12"
      ]
    },
    {
      "cell_type": "code",
      "execution_count": null,
      "id": "ed322b42",
      "metadata": {
        "id": "ed322b42",
        "outputId": "e06c8cf6-8a31-4b65-c6b7-848f08739919"
      },
      "outputs": [
        {
          "data": {
            "text/plain": [
              "array([[1, 2, 3, 4, 5, 6]])"
            ]
          },
          "execution_count": 77,
          "metadata": {},
          "output_type": "execute_result"
        }
      ],
      "source": [
        "a14=a11.reshape(1,6)\n",
        "a14"
      ]
    },
    {
      "cell_type": "code",
      "execution_count": null,
      "id": "81d7b565",
      "metadata": {
        "id": "81d7b565",
        "outputId": "98228b2c-ac78-489d-f49b-f8fb1a5c5148"
      },
      "outputs": [
        {
          "data": {
            "text/plain": [
              "array([[1, 2],\n",
              "       [3, 4],\n",
              "       [5, 6]])"
            ]
          },
          "execution_count": 78,
          "metadata": {},
          "output_type": "execute_result"
        }
      ],
      "source": [
        "a11"
      ]
    },
    {
      "cell_type": "code",
      "execution_count": null,
      "id": "317ce1d8",
      "metadata": {
        "id": "317ce1d8",
        "outputId": "52238c9f-b642-42c6-9844-9cd53c7a6ac8"
      },
      "outputs": [
        {
          "name": "stdout",
          "output_type": "stream",
          "text": [
            "[[1]\n",
            " [2]\n",
            " [3]\n",
            " [4]\n",
            " [5]\n",
            " [6]]\n",
            "[[1]\n",
            " [2]\n",
            " [3]\n",
            " [4]\n",
            " [5]\n",
            " [6]]\n"
          ]
        },
        {
          "data": {
            "text/plain": [
              "array([1, 2, 3, 4, 5, 6])"
            ]
          },
          "execution_count": 79,
          "metadata": {},
          "output_type": "execute_result"
        }
      ],
      "source": [
        "print(a12)\n",
        "a13=np.ravel(a12)\n",
        "print(a12)\n",
        "a13"
      ]
    },
    {
      "cell_type": "code",
      "execution_count": null,
      "id": "c7f4f3a2",
      "metadata": {
        "id": "c7f4f3a2",
        "outputId": "3058204a-348d-4b8e-84f5-f067041f8225"
      },
      "outputs": [
        {
          "data": {
            "text/plain": [
              "array([[1],\n",
              "       [2],\n",
              "       [3],\n",
              "       [4],\n",
              "       [5],\n",
              "       [6]])"
            ]
          },
          "execution_count": 80,
          "metadata": {},
          "output_type": "execute_result"
        }
      ],
      "source": [
        "a12"
      ]
    },
    {
      "cell_type": "code",
      "execution_count": null,
      "id": "8c657b19",
      "metadata": {
        "id": "8c657b19",
        "outputId": "f19ff562-2067-44ba-b4e7-b40ec0e2d77b"
      },
      "outputs": [
        {
          "data": {
            "text/plain": [
              "array([[0., 0., 0., 0.]])"
            ]
          },
          "execution_count": 81,
          "metadata": {},
          "output_type": "execute_result"
        }
      ],
      "source": [
        "a5=np.zeros((1,4))\n",
        "a5"
      ]
    },
    {
      "cell_type": "code",
      "execution_count": null,
      "id": "0a796eb4",
      "metadata": {
        "id": "0a796eb4",
        "outputId": "69875571-a707-4775-bdda-dfe421f60e5f"
      },
      "outputs": [
        {
          "data": {
            "text/plain": [
              "array([[0.],\n",
              "       [0.],\n",
              "       [0.],\n",
              "       [0.],\n",
              "       [0.],\n",
              "       [0.]])"
            ]
          },
          "execution_count": 82,
          "metadata": {},
          "output_type": "execute_result"
        }
      ],
      "source": [
        "a6=np.zeros(np.shape(a12))\n",
        "a6"
      ]
    },
    {
      "cell_type": "code",
      "execution_count": null,
      "id": "abdc4140",
      "metadata": {
        "id": "abdc4140",
        "outputId": "e7e8901b-e305-4714-c6eb-d38f7d6d5b96"
      },
      "outputs": [
        {
          "name": "stdout",
          "output_type": "stream",
          "text": [
            "[[0.]\n",
            " [0.]\n",
            " [0.]\n",
            " [0.]\n",
            " [0.]\n",
            " [0.]]\n"
          ]
        },
        {
          "data": {
            "text/plain": [
              "array([[1.],\n",
              "       [1.],\n",
              "       [1.],\n",
              "       [1.],\n",
              "       [1.],\n",
              "       [1.]])"
            ]
          },
          "execution_count": 83,
          "metadata": {},
          "output_type": "execute_result"
        }
      ],
      "source": [
        "print(a6)\n",
        "a7=np.ones(np.shape(a6))\n",
        "a7"
      ]
    },
    {
      "cell_type": "code",
      "execution_count": null,
      "id": "41ca91de",
      "metadata": {
        "id": "41ca91de",
        "outputId": "4f2c0cd3-0bb7-4179-eb67-be6b3d744cf8"
      },
      "outputs": [
        {
          "data": {
            "text/plain": [
              "array([[31, 31, 31],\n",
              "       [31, 31, 31]])"
            ]
          },
          "execution_count": 84,
          "metadata": {},
          "output_type": "execute_result"
        }
      ],
      "source": [
        "# Any other number\n",
        "np.full((2,3), 31)"
      ]
    },
    {
      "cell_type": "code",
      "execution_count": null,
      "id": "ac4c5e14",
      "metadata": {
        "id": "ac4c5e14",
        "outputId": "e0bae182-1222-4f7e-f9a4-69dde5b749f5"
      },
      "outputs": [
        {
          "name": "stdout",
          "output_type": "stream",
          "text": [
            "[[ 1  2  3  4  5  6  7]\n",
            " [ 8  9 10 11 12 13 14]]\n"
          ]
        }
      ],
      "source": [
        "a = np.array([[1,2,3,4,5,6,7],[8,9,10,11,12,13,14]])\n",
        "print(a)"
      ]
    },
    {
      "cell_type": "code",
      "execution_count": null,
      "id": "fcb751fe",
      "metadata": {
        "id": "fcb751fe",
        "outputId": "9f9bc84b-2cb7-4287-d1ef-95a41cb617ab"
      },
      "outputs": [
        {
          "data": {
            "text/plain": [
              "array([[1., 1., 1.],\n",
              "       [1., 1., 1.],\n",
              "       [1., 1., 1.]])"
            ]
          },
          "execution_count": 86,
          "metadata": {},
          "output_type": "execute_result"
        }
      ],
      "source": [
        "a7=np.ones((3,3))\n",
        "a7"
      ]
    },
    {
      "cell_type": "code",
      "execution_count": null,
      "id": "736ed323",
      "metadata": {
        "id": "736ed323",
        "outputId": "9fc89d1a-e54e-415a-e455-e9a6d7d28750"
      },
      "outputs": [
        {
          "data": {
            "text/plain": [
              "array([[4, 4, 4, 4, 4, 4, 4],\n",
              "       [4, 4, 4, 4, 4, 4, 4]])"
            ]
          },
          "execution_count": 87,
          "metadata": {},
          "output_type": "execute_result"
        }
      ],
      "source": [
        "# Any other number (full_like)\n",
        "np.full_like(a, 4)"
      ]
    },
    {
      "cell_type": "code",
      "execution_count": null,
      "id": "de522c61",
      "metadata": {
        "id": "de522c61",
        "outputId": "e4a27cff-9561-490b-a3ce-a1b6773ca96f"
      },
      "outputs": [
        {
          "data": {
            "text/plain": [
              "array([[0.29214873, 0.81739906],\n",
              "       [0.35214154, 0.60832388],\n",
              "       [0.94614646, 0.50580432],\n",
              "       [0.13919929, 0.21854417]])"
            ]
          },
          "execution_count": 88,
          "metadata": {},
          "output_type": "execute_result"
        }
      ],
      "source": [
        "# Random decimal numbers\n",
        "np.random.rand(4,2)"
      ]
    },
    {
      "cell_type": "code",
      "execution_count": null,
      "id": "5b85ac63",
      "metadata": {
        "id": "5b85ac63",
        "outputId": "588ce40d-7cc4-4e5f-e5f6-91b7cc12dbcb"
      },
      "outputs": [
        {
          "data": {
            "text/plain": [
              "array([[-1, -3,  0],\n",
              "       [ 6, -3,  1],\n",
              "       [ 5, -1,  7]])"
            ]
          },
          "execution_count": 89,
          "metadata": {},
          "output_type": "execute_result"
        }
      ],
      "source": [
        "# Random Integer values\n",
        "np.random.randint(-4,8, size=(3,3))"
      ]
    },
    {
      "cell_type": "code",
      "execution_count": null,
      "id": "9d1aa44f",
      "metadata": {
        "id": "9d1aa44f",
        "outputId": "619ab820-6cbf-492d-b1ee-d382f40fe923"
      },
      "outputs": [
        {
          "data": {
            "text/plain": [
              "array([[1., 0., 0., 0., 0.],\n",
              "       [0., 1., 0., 0., 0.],\n",
              "       [0., 0., 1., 0., 0.],\n",
              "       [0., 0., 0., 1., 0.],\n",
              "       [0., 0., 0., 0., 1.]])"
            ]
          },
          "execution_count": 90,
          "metadata": {},
          "output_type": "execute_result"
        }
      ],
      "source": [
        "# The identity matrix\n",
        "np.identity(5)"
      ]
    },
    {
      "cell_type": "code",
      "execution_count": null,
      "id": "a75f7bae",
      "metadata": {
        "id": "a75f7bae",
        "outputId": "b91e6939-18de-4d94-b84f-8da08c528575"
      },
      "outputs": [
        {
          "name": "stdout",
          "output_type": "stream",
          "text": [
            "[[1 2 3]\n",
            " [1 2 3]\n",
            " [1 2 3]]\n"
          ]
        }
      ],
      "source": [
        "# Repeat an array\n",
        "arr = np.array([[1,2,3]])\n",
        "r1 = np.repeat(arr,3, axis=0)\n",
        "print(r1)"
      ]
    },
    {
      "cell_type": "code",
      "execution_count": null,
      "id": "5c5752e5",
      "metadata": {
        "id": "5c5752e5",
        "outputId": "4a427a39-7621-4d7a-e6ff-d4407903204b"
      },
      "outputs": [
        {
          "name": "stdout",
          "output_type": "stream",
          "text": [
            "[[1. 1. 1. 1. 1.]\n",
            " [1. 1. 1. 1. 1.]\n",
            " [1. 1. 1. 1. 1.]\n",
            " [1. 1. 1. 1. 1.]\n",
            " [1. 1. 1. 1. 1.]]\n",
            "[[0. 0. 0.]\n",
            " [0. 9. 0.]\n",
            " [0. 0. 0.]]\n",
            "[[1. 1. 1. 1. 1.]\n",
            " [1. 0. 0. 0. 1.]\n",
            " [1. 0. 9. 0. 1.]\n",
            " [1. 0. 0. 0. 1.]\n",
            " [1. 1. 1. 1. 1.]]\n",
            "[[0. 0. 0. 1. 1.]\n",
            " [0. 9. 0. 1. 1.]\n",
            " [0. 0. 0. 1. 1.]\n",
            " [1. 1. 1. 1. 1.]\n",
            " [1. 1. 1. 1. 1.]]\n"
          ]
        }
      ],
      "source": [
        "output = np.ones((5,5))\n",
        "output1 = np.ones((5,5))\n",
        "print(output)\n",
        "\n",
        "z = np.zeros((3,3))\n",
        "z[1,1] = 9\n",
        "print(z)\n",
        "\n",
        "output[1:-1,1:-1] = z\n",
        "print(output)\n",
        "output1[0:-2,0:-2] = z\n",
        "print(output1)"
      ]
    },
    {
      "cell_type": "code",
      "execution_count": null,
      "id": "30198649",
      "metadata": {
        "id": "30198649",
        "outputId": "3847080a-6968-46ad-8040-9673ec361088"
      },
      "outputs": [
        {
          "data": {
            "text/plain": [
              "array([[1, 2, 3],\n",
              "       [4, 5, 6],\n",
              "       [7, 8, 9]])"
            ]
          },
          "execution_count": 93,
          "metadata": {},
          "output_type": "execute_result"
        }
      ],
      "source": [
        "a11=np.array([[1,2,3],[4,5,6],[7,8,9]])\n",
        "a11"
      ]
    },
    {
      "cell_type": "code",
      "execution_count": null,
      "id": "a2c8a02e",
      "metadata": {
        "id": "a2c8a02e"
      },
      "outputs": [],
      "source": [
        "row,col=a11.shape"
      ]
    },
    {
      "cell_type": "code",
      "execution_count": null,
      "id": "c2e41dc8",
      "metadata": {
        "id": "c2e41dc8",
        "outputId": "69c8ab9d-d1bf-433e-c02d-9a4ec6dce02c"
      },
      "outputs": [
        {
          "name": "stdout",
          "output_type": "stream",
          "text": [
            "3 3\n"
          ]
        }
      ],
      "source": [
        "print(row,col)"
      ]
    },
    {
      "cell_type": "code",
      "execution_count": null,
      "id": "04c97e23",
      "metadata": {
        "id": "04c97e23",
        "outputId": "a71f25da-652c-4759-df03-eb0c081928bf"
      },
      "outputs": [
        {
          "data": {
            "text/plain": [
              "array([[ 2.,  3.,  4.],\n",
              "       [ 5.,  6.,  7.],\n",
              "       [ 8.,  9., 10.]])"
            ]
          },
          "execution_count": 96,
          "metadata": {},
          "output_type": "execute_result"
        }
      ],
      "source": [
        "a12=np.zeros((row,col))\n",
        "for i in range(row):\n",
        "    for j in range(col):\n",
        "        a12[i,j]=a7[i,j]+a11[i,j]\n",
        "a12"
      ]
    },
    {
      "cell_type": "code",
      "execution_count": null,
      "id": "3a8cc4eb",
      "metadata": {
        "id": "3a8cc4eb",
        "outputId": "527bd9fa-9d0d-4482-a426-603ff5a7187e"
      },
      "outputs": [
        {
          "data": {
            "text/plain": [
              "array([[ 2.,  3.,  4.],\n",
              "       [ 5.,  6.,  7.],\n",
              "       [ 8.,  9., 10.]])"
            ]
          },
          "execution_count": 97,
          "metadata": {},
          "output_type": "execute_result"
        }
      ],
      "source": [
        "a7+a11"
      ]
    },
    {
      "cell_type": "code",
      "execution_count": null,
      "id": "aaf65f6b",
      "metadata": {
        "id": "aaf65f6b",
        "outputId": "e4299b8a-bcd0-4991-9a13-6a83d62ef180"
      },
      "outputs": [
        {
          "name": "stdout",
          "output_type": "stream",
          "text": [
            "[5 7 9]\n",
            "[ 4 10 18]\n",
            "[-3 -3 -3]\n",
            "[3 3 3]\n",
            "[ 5 12 21]\n",
            "[0.25 0.4  0.5 ]\n"
          ]
        }
      ],
      "source": [
        "a1=np.array([1,2,3])\n",
        "a2=np.array([4,5,6])\n",
        "print(a1+a2)\n",
        "print(a1*a2)\n",
        "print(a1-a2)\n",
        "print(a2-a1)\n",
        "print(a1+(a1*a2))\n",
        "print(a1/a2)"
      ]
    },
    {
      "cell_type": "markdown",
      "id": "506493d0",
      "metadata": {
        "id": "506493d0"
      },
      "source": [
        "Be careful when copying arrays!!!"
      ]
    },
    {
      "cell_type": "code",
      "execution_count": null,
      "id": "5ff0992d",
      "metadata": {
        "id": "5ff0992d",
        "outputId": "ed5dcd48-83ea-4687-f94b-8621e6410801"
      },
      "outputs": [
        {
          "name": "stdout",
          "output_type": "stream",
          "text": [
            "[1 2 3]\n",
            "[100   2   3]\n",
            "[1 2 3]\n"
          ]
        }
      ],
      "source": [
        "a = np.array([1,2,3])\n",
        "b = a.copy()\n",
        "b[0] = 100\n",
        "\n",
        "print(a)\n",
        "print(b)\n",
        "print(a)"
      ]
    },
    {
      "cell_type": "code",
      "execution_count": null,
      "id": "f1daa302",
      "metadata": {
        "id": "f1daa302",
        "outputId": "571ab37b-caf0-4c6a-da78-3da75fe4b4a3"
      },
      "outputs": [
        {
          "name": "stdout",
          "output_type": "stream",
          "text": [
            "[1 2 3 4]\n"
          ]
        }
      ],
      "source": [
        "a = np.array([1,2,3,4])\n",
        "print(a)"
      ]
    },
    {
      "cell_type": "code",
      "execution_count": null,
      "id": "e2191ed7",
      "metadata": {
        "id": "e2191ed7",
        "outputId": "3cd5aeda-b506-4c98-cb0c-30d9b1ad40d3"
      },
      "outputs": [
        {
          "data": {
            "text/plain": [
              "array([3, 4, 5, 6])"
            ]
          },
          "execution_count": 101,
          "metadata": {},
          "output_type": "execute_result"
        }
      ],
      "source": [
        "a+2"
      ]
    },
    {
      "cell_type": "code",
      "execution_count": null,
      "id": "3f8da993",
      "metadata": {
        "id": "3f8da993",
        "outputId": "225a97e8-88c3-44f0-b7e9-4a28663a9f3c"
      },
      "outputs": [
        {
          "data": {
            "text/plain": [
              "array([-1,  0,  1,  2])"
            ]
          },
          "execution_count": 102,
          "metadata": {},
          "output_type": "execute_result"
        }
      ],
      "source": [
        "a-2"
      ]
    },
    {
      "cell_type": "code",
      "execution_count": null,
      "id": "c79d9356",
      "metadata": {
        "id": "c79d9356",
        "outputId": "dcbccf67-3eb2-45cc-adf0-1fb7d6982694"
      },
      "outputs": [
        {
          "data": {
            "text/plain": [
              "array([ 1,  4,  9, 16], dtype=int32)"
            ]
          },
          "execution_count": 103,
          "metadata": {},
          "output_type": "execute_result"
        }
      ],
      "source": [
        "a ** 2"
      ]
    }
  ],
  "metadata": {
    "kernelspec": {
      "display_name": "Python 3 (ipykernel)",
      "language": "python",
      "name": "python3"
    },
    "language_info": {
      "codemirror_mode": {
        "name": "ipython",
        "version": 3
      },
      "file_extension": ".py",
      "mimetype": "text/x-python",
      "name": "python",
      "nbconvert_exporter": "python",
      "pygments_lexer": "ipython3",
      "version": "3.9.13"
    },
    "colab": {
      "provenance": [],
      "include_colab_link": true
    }
  },
  "nbformat": 4,
  "nbformat_minor": 5
}